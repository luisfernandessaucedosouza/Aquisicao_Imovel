{
  "nbformat": 4,
  "nbformat_minor": 0,
  "metadata": {
    "colab": {
      "provenance": [],
      "authorship_tag": "ABX9TyOtsG4GWjGN/NKX3U+KU9HY",
      "include_colab_link": true
    },
    "kernelspec": {
      "name": "python3",
      "display_name": "Python 3"
    },
    "language_info": {
      "name": "python"
    }
  },
  "cells": [
    {
      "cell_type": "markdown",
      "metadata": {
        "id": "view-in-github",
        "colab_type": "text"
      },
      "source": [
        "<a href=\"https://colab.research.google.com/github/luisfernandessaucedosouza/Aquisicao_Imovel/blob/main/analitica_imovel.ipynb\" target=\"_parent\"><img src=\"https://colab.research.google.com/assets/colab-badge.svg\" alt=\"Open In Colab\"/></a>"
      ]
    },
    {
      "cell_type": "code",
      "execution_count": 2,
      "metadata": {
        "id": "hzwSOcUFm9-x"
      },
      "outputs": [],
      "source": [
        "import sympy as sp\n",
        "import numpy as np\n",
        "\n",
        "t = sp.Symbol(\"t\")\n",
        "\n",
        "V = 500000\n",
        "E = 100000\n",
        "i = 0.0078\n",
        "a = V*0.0033\n",
        "r = 0.0067\n",
        "sd = V-E\n",
        "n = 360\n",
        "s0 = E\n",
        "\n",
        "alpha = -(i*((V-E)/n))\n",
        "beta = (i*sd+((V-E)/n)-a)\n",
        "\n",
        "S = -(alpha/r)-(alpha/r**2)-(beta/r)+(s0+(alpha/r**2)+(beta/r))*np.e**(r*t)"
      ]
    },
    {
      "cell_type": "code",
      "source": [
        "3144815.238346 - S.subs(t,360)"
      ],
      "metadata": {
        "colab": {
          "base_uri": "https://localhost:8080/",
          "height": 37
        },
        "id": "kgrSzjJqqWLD",
        "outputId": "5e8c8566-882e-4061-95f0-ffd7634b113b"
      },
      "execution_count": 7,
      "outputs": [
        {
          "output_type": "execute_result",
          "data": {
            "text/plain": [
              "76109.4591026735"
            ],
            "text/latex": "$\\displaystyle 76109.4591026735$"
          },
          "metadata": {},
          "execution_count": 7
        }
      ]
    },
    {
      "cell_type": "code",
      "source": [],
      "metadata": {
        "id": "S_28WoMiqWsH"
      },
      "execution_count": null,
      "outputs": []
    }
  ]
}