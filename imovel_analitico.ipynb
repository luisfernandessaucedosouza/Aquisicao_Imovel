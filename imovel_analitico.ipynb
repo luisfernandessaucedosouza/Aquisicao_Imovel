{
  "nbformat": 4,
  "nbformat_minor": 0,
  "metadata": {
    "colab": {
      "provenance": [],
      "include_colab_link": true
    },
    "kernelspec": {
      "name": "python3",
      "display_name": "Python 3"
    },
    "language_info": {
      "name": "python"
    }
  },
  "cells": [
    {
      "cell_type": "markdown",
      "metadata": {
        "id": "view-in-github",
        "colab_type": "text"
      },
      "source": [
        "<a href=\"https://colab.research.google.com/github/luisfernandessaucedosouza/Aquisicao_Imovel/blob/main/imovel_analitico.ipynb\" target=\"_parent\"><img src=\"https://colab.research.google.com/assets/colab-badge.svg\" alt=\"Open In Colab\"/></a>"
      ]
    },
    {
      "cell_type": "code",
      "execution_count": 59,
      "metadata": {
        "id": "fmauT55esknY"
      },
      "outputs": [],
      "source": [
        "# As primeiras linhas de código tratam de importar ambas bibliotecas\n",
        "import pandas as pd\n",
        "import sympy as sp\n",
        "import numpy as np\n",
        "import matplotlib.pyplot as plt\n",
        "\n",
        "\n",
        "# Definir função que recaba os parâmetros taxa de juros parcelas e saldo devedor inicial\n",
        "def sac(i,N,SD0):\n",
        "\n",
        "    # Criar Data Frame com colunas de juros amortização e saldo devedor\n",
        "    df = pd.DataFrame(columns=['Juros','Amortização','Parcela','Saldo Devedor'],index=range(N+1))\n",
        "\n",
        "    # Declarar a primeira linha do saldo com o saldo devedor inicial\n",
        "    df['Saldo Devedor'][0] = SD0\n",
        "\n",
        "    # Declarar a amortização constante do SAC\n",
        "    df['Amortização'][1:] = SD0/N\n",
        "\n",
        "    # Calcular as demais linhas baseado na fórmula do SAC\n",
        "    for n in df.index[1:]:\n",
        "        df['Juros'][n] = round(df['Saldo Devedor'][n-1]*i,2)\n",
        "        df['Parcela'][n] = df['Juros'][n]+df['Amortização'][n]\n",
        "        df['Saldo Devedor'][n] = df['Saldo Devedor'][n-1] - df['Amortização'][n]\n",
        "\n",
        "    # Aqui ajustamos a última parcela caso tenha valor residual devido ao arredondamento\n",
        "    df['Parcela'][N] += df['Saldo Devedor'][N]\n",
        "    df['Saldo Devedor'][N] -= df['Saldo Devedor'][N]\n",
        "\n",
        "    return df"
      ]
    },
    {
      "cell_type": "code",
      "source": [
        "valor_do_imovel = 500000.00\n",
        "entrada = 100000.00\n",
        "taxa_financiamento_anual = 0.0942\n",
        "taxa_aluguel_anual = 0.04\n",
        "rendimento_investimentos_anual = 0.08\n",
        "tempo_anos = 30\n",
        "\n",
        "def taxa_aa_para_am(i):\n",
        "    '''\n",
        "    Função recebe uma taxa de juros anual\n",
        "    e retorna a taxa mensal equivalente.\n",
        "    '''\n",
        "    return (1.+i)**(1./12.)-1.\n",
        "\n",
        "valor_do_financiamento = valor_do_imovel - entrada\n",
        "taxa_financiamento = taxa_aa_para_am(taxa_financiamento_anual)\n",
        "taxa_aluguel = taxa_aa_para_am(taxa_aluguel_anual)\n",
        "rendimento_investimentos = taxa_aa_para_am(rendimento_investimentos_anual)\n",
        "tempo = tempo_anos * 12"
      ],
      "metadata": {
        "id": "WTfP01sxssYx"
      },
      "execution_count": 60,
      "outputs": []
    },
    {
      "cell_type": "code",
      "source": [
        "# Passando os parâmetros declarados para a função sac\n",
        "financiar = sac(\n",
        "    taxa_financiamento,\n",
        "    tempo,\n",
        "    valor_do_financiamento\n",
        ")\n",
        "\n",
        "# Adicionando coluna de patrimônio e juros\n",
        "financiar['Patrimônio - Imóvel'] = financiar['Amortização'].cumsum() + entrada\n",
        "financiar['Custo - Juros'] = financiar['Juros'].cumsum()"
      ],
      "metadata": {
        "id": "N2q5s6FwtBXv"
      },
      "execution_count": 61,
      "outputs": []
    },
    {
      "cell_type": "code",
      "source": [
        "# Inicializamos um DataFrame vazio\n",
        "alugar = pd.DataFrame(index=range(tempo+1))\n",
        "\n",
        "# Calculamos o valor do aluguel\n",
        "aluguel = round((valor_do_imovel)*taxa_aluguel,2)\n",
        "alugar['Aluguel'] = aluguel\n",
        "# Aluguel no tempo zero é igual a zero\n",
        "alugar['Aluguel'][0] = 0.0\n",
        "\n",
        "# Aqui calculamos o custo com aluguel como o somatório\n",
        "# de todos os valores pagos\n",
        "alugar['Custo - Aluguel'] = alugar['Aluguel'].cumsum()\n",
        "\n",
        "# O aporte em aplicações financeiras se da pela diferença\n",
        "# entre o que seria pago de financiamento no exemplo anterior\n",
        "# e o valor do aluguel do imóvel\n",
        "alugar['Aportes'] = financiar['Parcela'] - aluguel\n",
        "\n",
        "# E o aporte inicial é o valor que estaria disponível como entrada\n",
        "alugar['Aportes'][0] = entrada\n",
        "# Aqui a variável é basicamente inicializada\n",
        "alugar['Patrimônio'] = alugar['Aportes']\n",
        "\n",
        "# O patrimônio é realmente calculado neste laço\n",
        "for n in alugar.index[1:]:\n",
        "    alugar['Patrimônio'][n] = alugar['Aportes'][n] + alugar['Patrimônio'][n-1] * (1. + rendimento_investimentos)\n",
        "\n",
        "# Por fim, a fração Principal é tida como o somatório de todos os aportes\n",
        "alugar['Patrimônio - Principal'] = alugar['Aportes'].cumsum()\n",
        "# E os rendimentos são obtidos pela seguinte subtração\n",
        "alugar['Patrimônio - Rendimentos'] = alugar['Patrimônio'] - alugar['Patrimônio - Principal']\n",
        "\n",
        "alugar['Saldo devedor'] = 0\n",
        "alugar['Saldo devedor'][0] = valor_do_financiamento\n",
        "for n in alugar.index[1:]:\n",
        "    alugar['Saldo devedor'][n] = alugar['Saldo devedor'][0] - n*(alugar['Saldo devedor'][0]/tempo)\n",
        "\n"
      ],
      "metadata": {
        "id": "2EXI3lxmsv7E"
      },
      "execution_count": null,
      "outputs": []
    },
    {
      "cell_type": "code",
      "source": [
        "#definindo constantes do problema\n",
        "valor_do_imovel = 500000.00\n",
        "entrada = 100000.00\n",
        "taxa_financeamento_anual = 0.0942\n",
        "taxa_aluguel_anual = 0.04\n",
        "rendimento_investimentos_anual = 0.08\n",
        "tempo_anos = 30\n",
        "\n",
        "#transformando constantes\n",
        "def taxa_aa_para_am(i):\n",
        "    '''\n",
        "    Função recebe uma taxa de juros anual\n",
        "    e retorna a taxa mensal equivalente.\n",
        "    '''\n",
        "    return (1.+i)**(1./12.)-1.\n",
        "\n",
        "valor_do_financiamento = valor_do_imovel - entrada\n",
        "taxa_financiamento = taxa_aa_para_am(taxa_financeamento_anual)\n",
        "taxa_aluguel = taxa_aa_para_am(taxa_aluguel_anual)\n",
        "rendimento_investimentos = taxa_aa_para_am(rendimento_investimentos_anual)\n",
        "parcelas = tempo_anos * 12"
      ],
      "metadata": {
        "colab": {
          "base_uri": "https://localhost:8080/"
        },
        "id": "G1WIUnbP4ajw",
        "outputId": "4e5d9c91-537a-4949-df97-ae19db852661"
      },
      "execution_count": 63,
      "outputs": [
        {
          "output_type": "execute_result",
          "data": {
            "text/plain": [
              "0.0075301687448090515"
            ]
          },
          "metadata": {},
          "execution_count": 63
        }
      ]
    },
    {
      "cell_type": "code",
      "source": [
        "#definindo variáveis\n",
        "t = sp.Symbol(\"t\", real=True)\n",
        "\n",
        "amortizacao = valor_do_financiamento/parcelas\n",
        "\n",
        "saldo_devedor = valor_do_financiamento - t*amortizacao\n",
        "\n",
        "juros = taxa_financiamento*saldo_devedor\n",
        "\n",
        "prestacoes = juros + amortizacao\n",
        "\n",
        "aluguel = taxa_aluguel*valor_do_imovel\n",
        "\n",
        "k = prestacoes - aluguel\n",
        "\n",
        "#definindo montante em função do tempo\n",
        "S = sp.Function('S')\n",
        "\n",
        "#resolvedo edo que carcteriza o problema\n",
        "St = sp.dsolve(sp.Derivative(S(t),t)-rendimento_investimentos*S(t)-k, S(t), ics={S(0): entrada})"
      ],
      "metadata": {
        "id": "2XpuE7DJ4C9H"
      },
      "execution_count": 64,
      "outputs": []
    },
    {
      "cell_type": "code",
      "source": [
        "#comparar graficamente os métodos\n",
        "ax = plt.subplot()\n",
        "\n",
        "#definir plot do método discreto\n",
        "ax.plot(np.arange(0, 361, 25), alugar['Patrimônio'][np.arange(0, 361, 25)], 'x', color='red', label= 'Discreto')\n",
        "ax.set_xticks(np.arange(0, 361, 25))\n",
        "\n",
        "#definir plot do método analítico\n",
        "ax.plot(np.arange(360),  [St.subs(t,i).rhs.evalf() for i in range(360)] , 'b', label= 'Analítico')\n",
        "\n",
        "ax.set_xlabel('Tempo (meses)')\n",
        "ax.set_ylabel('Montante (R$)')\n",
        "ax.set_title('Comparação métodos')\n",
        "\n",
        "ax.legend()"
      ],
      "metadata": {
        "colab": {
          "base_uri": "https://localhost:8080/",
          "height": 490
        },
        "id": "d6meYI1Z4pdZ",
        "outputId": "8992aa12-9e18-4ac4-d418-73ba1dfdd1c7"
      },
      "execution_count": 95,
      "outputs": [
        {
          "output_type": "execute_result",
          "data": {
            "text/plain": [
              "<matplotlib.legend.Legend at 0x7aafdc80b2e0>"
            ]
          },
          "metadata": {},
          "execution_count": 95
        },
        {
          "output_type": "display_data",
          "data": {
            "text/plain": [
              "<Figure size 640x480 with 1 Axes>"
            ],
            "image/png": "[encoded data removed]"
          },
          "metadata": {}
        }
      ]
    },
    {
      "cell_type": "code",
      "source": [
        "delta = abs(alugar['Patrimônio'][360]-St.subs(t,360).rhs.evalf())\n",
        "\n",
        "erro_percentual = delta/alugar['Patrimônio'][360]\n",
        "\n",
        "erro_percentual"
      ],
      "metadata": {
        "id": "quineZdrmh65",
        "colab": {
          "base_uri": "https://localhost:8080/",
          "height": 37
        },
        "outputId": "45db0f03-c85a-436d-e773-b8c4cbfebad9"
      },
      "execution_count": 80,
      "outputs": [
        {
          "output_type": "execute_result",
          "data": {
            "text/plain": [
              "0.00677510623638547"
            ],
            "text/latex": "$\\displaystyle 0.00677510623638547$"
          },
          "metadata": {},
          "execution_count": 80
        }
      ]
    },
    {
      "cell_type": "code",
      "source": [],
      "metadata": {
        "id": "oQrPz7QNDRH6"
      },
      "execution_count": null,
      "outputs": []
    }
  ]
}